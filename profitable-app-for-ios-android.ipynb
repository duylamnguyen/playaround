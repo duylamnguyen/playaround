{
 "cells": [
  {
   "cell_type": "markdown",
   "metadata": {},
   "source": [
    "# Profitable App for iOS & Android\n",
    "\n",
    "## What project is about\n",
    "\n",
    "The project is to find a potential application that can make profit on both iOS and Android platforms. This application is free to download and in English.\n",
    "\n",
    "## What my goal is in this project\n",
    "\n",
    "My goal is able to tell developers what kind of application should they build to attract as much as possible users.\n",
    "\n",
    "## I. Opening and Exploring the Data:\n",
    "\n",
    "There are two data sets on [kaggle](wwww.kaggle.com) that I can use for my analysis:\n",
    "* [Google Play Store Apps](https://www.kaggle.com/lava18/google-play-store-apps/home) which contains 9960 apps.\n",
    "* [Mobile App Store](https://www.kaggle.com/ramamet4/app-store-apple-data-set-10k-apps/home) which contains 7200 apps.\n",
    "\n",
    "Let's open them:"
   ]
  },
  {
   "cell_type": "code",
   "execution_count": 1,
   "metadata": {},
   "outputs": [],
   "source": [
    "from csv import reader\n",
    "\n",
    "#Google Play data set:\n",
    "opened_file = open('../input/google-play-store-apps/googleplaystore.csv')\n",
    "read_file = reader(opened_file)\n",
    "android = list(read_file)\n",
    "android_header = android[0]\n",
    "android_body = android[1:]\n",
    "\n",
    "#Apple Store data set:\n",
    "opened_file = open('../input/app-store-apple-data-set-10k-apps/AppleStore.csv')\n",
    "read_file = reader(opened_file)\n",
    "ios = list(read_file)\n",
    "ios_header = ios[0]\n",
    "ios_body = ios[1:]"
   ]
  },
  {
   "cell_type": "markdown",
   "metadata": {},
   "source": [
    "To explore these data sets easily, I will create a function called `f_explore_data`:"
   ]
  },
  {
   "cell_type": "code",
   "execution_count": 2,
   "metadata": {},
   "outputs": [],
   "source": [
    "def f_explore_data(dataset, start, end, no_rows_columns = False):\n",
    "    data_slice = dataset[start:end]\n",
    "    for row in data_slice:\n",
    "        print(row)\n",
    "        print('\\n')\n",
    "    if no_rows_columns:\n",
    "        print('Number of rows: ', len(dataset))\n",
    "        print('Number of columns: ', len(dataset[0]))"
   ]
  },
  {
   "cell_type": "code",
   "execution_count": 3,
   "metadata": {
    "scrolled": true
   },
   "outputs": [
    {
     "name": "stdout",
     "output_type": "stream",
     "text": [
      "['App', 'Category', 'Rating', 'Reviews', 'Size', 'Installs', 'Type', 'Price', 'Content Rating', 'Genres', 'Last Updated', 'Current Ver', 'Android Ver']\n",
      "\n",
      "\n",
      "['Photo Editor & Candy Camera & Grid & ScrapBook', 'ART_AND_DESIGN', '4.1', '159', '19M', '10,000+', 'Free', '0', 'Everyone', 'Art & Design', 'January 7, 2018', '1.0.0', '4.0.3 and up']\n",
      "\n",
      "\n",
      "['Coloring book moana', 'ART_AND_DESIGN', '3.9', '967', '14M', '500,000+', 'Free', '0', 'Everyone', 'Art & Design;Pretend Play', 'January 15, 2018', '2.0.0', '4.0.3 and up']\n",
      "\n",
      "\n",
      "['U Launcher Lite – FREE Live Cool Themes, Hide Apps', 'ART_AND_DESIGN', '4.7', '87510', '8.7M', '5,000,000+', 'Free', '0', 'Everyone', 'Art & Design', 'August 1, 2018', '1.2.4', '4.0.3 and up']\n",
      "\n",
      "\n",
      "Number of rows:  10841\n",
      "Number of columns:  13\n"
     ]
    }
   ],
   "source": [
    "print(android_header)\n",
    "print('\\n')\n",
    "f_explore_data(android_body, 0, 3, True)"
   ]
  },
  {
   "cell_type": "markdown",
   "metadata": {},
   "source": [
    "Number of rows (10841 rows) of Google Play data set doesn't match number of unique apps (9960 apps) I mentioned above. It means there are bunch of duplications in this data."
   ]
  },
  {
   "cell_type": "code",
   "execution_count": 4,
   "metadata": {},
   "outputs": [
    {
     "name": "stdout",
     "output_type": "stream",
     "text": [
      "['', 'id', 'track_name', 'size_bytes', 'currency', 'price', 'rating_count_tot', 'rating_count_ver', 'user_rating', 'user_rating_ver', 'ver', 'cont_rating', 'prime_genre', 'sup_devices.num', 'ipadSc_urls.num', 'lang.num', 'vpp_lic']\n",
      "\n",
      "\n",
      "['1', '281656475', 'PAC-MAN Premium', '100788224', 'USD', '3.99', '21292', '26', '4', '4.5', '6.3.5', '4+', 'Games', '38', '5', '10', '1']\n",
      "\n",
      "\n",
      "['2', '281796108', 'Evernote - stay organized', '158578688', 'USD', '0', '161065', '26', '4', '3.5', '8.2.2', '4+', 'Productivity', '37', '5', '23', '1']\n",
      "\n",
      "\n",
      "['3', '281940292', 'WeatherBug - Local Weather, Radar, Maps, Alerts', '100524032', 'USD', '0', '188583', '2822', '3.5', '4.5', '5.0.0', '4+', 'Weather', '37', '5', '3', '1']\n",
      "\n",
      "\n",
      "Number of rows:  7197\n",
      "Number of columns:  17\n"
     ]
    }
   ],
   "source": [
    "print(ios_header)\n",
    "print('\\n')\n",
    "f_explore_data(ios_body, 0, 3, True)"
   ]
  },
  {
   "cell_type": "markdown",
   "metadata": {},
   "source": [
    "Same issue here. Number of rows is greater than number of unique apps.\n",
    "\n",
    "Some column names are not self-explanatory. For example: 'track_name', 'rating_count_tot', ect. We can find their detail info as below:\n",
    "\n",
    "* [Google Play documentary](https://www.kaggle.com/lava18/google-play-store-apps)\n",
    "\n",
    "* [Apple Store documentary](https://www.kaggle.com/ramamet4/app-store-apple-data-set-10k-apps)\n",
    "\n",
    "## II. Cleaning the Data:\n",
    "### 1. Deleting wrong data:\n",
    "\n",
    "Before removing duplicate rows, I need to dig deeper to see whether we have any potential problems with our data sets. Fortunately, in both data sets, there are discussion sections that can save me time to detect those errors.\n",
    "* [Goolge Play Discussion](https://www.kaggle.com/lava18/google-play-store-apps/discussion)\n",
    "* [Apple Store Discussion](https://www.kaggle.com/ramamet4/app-store-apple-data-set-10k-apps/discussion)\n",
    "\n",
    "Read through all discussions, I only found [one](https://www.kaggle.com/lava18/google-play-store-apps/discussion/66015) that describes row 10472 is wrong."
   ]
  },
  {
   "cell_type": "code",
   "execution_count": 5,
   "metadata": {
    "scrolled": true
   },
   "outputs": [
    {
     "name": "stdout",
     "output_type": "stream",
     "text": [
      "['App', 'Category', 'Rating', 'Reviews', 'Size', 'Installs', 'Type', 'Price', 'Content Rating', 'Genres', 'Last Updated', 'Current Ver', 'Android Ver']\n",
      "\n",
      "\n",
      "['Life Made WI-Fi Touchscreen Photo Frame', '1.9', '19', '3.0M', '1,000+', 'Free', '0', 'Everyone', '', 'February 11, 2018', '1.0.19', '4.0 and up']\n"
     ]
    }
   ],
   "source": [
    "print(android_header)\n",
    "print('\\n')\n",
    "print(android_body[10472])"
   ]
  },
  {
   "cell_type": "markdown",
   "metadata": {},
   "source": [
    "Rating in this row is 19 which is wrong because maximum rating of Google Play App is 5. As a consequence, it will be deleted."
   ]
  },
  {
   "cell_type": "code",
   "execution_count": 6,
   "metadata": {},
   "outputs": [],
   "source": [
    "del android_body[10472]"
   ]
  },
  {
   "cell_type": "markdown",
   "metadata": {},
   "source": [
    "### 2. Removing duplicate row:\n",
    "We already knewn our data sets have so many duplications. For instance, Instagram has four entries:"
   ]
  },
  {
   "cell_type": "code",
   "execution_count": 7,
   "metadata": {},
   "outputs": [
    {
     "name": "stdout",
     "output_type": "stream",
     "text": [
      "['App', 'Category', 'Rating', 'Reviews', 'Size', 'Installs', 'Type', 'Price', 'Content Rating', 'Genres', 'Last Updated', 'Current Ver', 'Android Ver']\n",
      "\n",
      "\n",
      "['Instagram', 'SOCIAL', '4.5', '66577313', 'Varies with device', '1,000,000,000+', 'Free', '0', 'Teen', 'Social', 'July 31, 2018', 'Varies with device', 'Varies with device']\n",
      "['Instagram', 'SOCIAL', '4.5', '66577446', 'Varies with device', '1,000,000,000+', 'Free', '0', 'Teen', 'Social', 'July 31, 2018', 'Varies with device', 'Varies with device']\n",
      "['Instagram', 'SOCIAL', '4.5', '66577313', 'Varies with device', '1,000,000,000+', 'Free', '0', 'Teen', 'Social', 'July 31, 2018', 'Varies with device', 'Varies with device']\n",
      "['Instagram', 'SOCIAL', '4.5', '66509917', 'Varies with device', '1,000,000,000+', 'Free', '0', 'Teen', 'Social', 'July 31, 2018', 'Varies with device', 'Varies with device']\n"
     ]
    }
   ],
   "source": [
    "print(android_header)\n",
    "print('\\n')\n",
    "for row in android_body:\n",
    "    v_app_name = row[0]\n",
    "    if v_app_name == 'Instagram':\n",
    "        print(row)"
   ]
  },
  {
   "cell_type": "markdown",
   "metadata": {},
   "source": [
    "I will build function `f_find_duplication` to find how many duplications are there in each data set"
   ]
  },
  {
   "cell_type": "code",
   "execution_count": 8,
   "metadata": {},
   "outputs": [],
   "source": [
    "def f_find_duplication(dataset, index):\n",
    "    l_duplicate_app = []\n",
    "    l_unique_app = []\n",
    "    \n",
    "    for row in dataset:\n",
    "        v_app_name = row[index]\n",
    "        if v_app_name in l_unique_app:\n",
    "            l_duplicate_app.append(v_app_name)\n",
    "        else:\n",
    "            l_unique_app.append(v_app_name)\n",
    "    \n",
    "    print('Number of duplicate apps: ', len(l_duplicate_app))\n",
    "    print('Number of unique apps: ', len(l_unique_app))"
   ]
  },
  {
   "cell_type": "code",
   "execution_count": 9,
   "metadata": {},
   "outputs": [
    {
     "name": "stdout",
     "output_type": "stream",
     "text": [
      "Number of duplicate apps:  1181\n",
      "Number of unique apps:  9659\n"
     ]
    }
   ],
   "source": [
    "f_find_duplication(android_body, 0)"
   ]
  },
  {
   "cell_type": "markdown",
   "metadata": {},
   "source": [
    "Google Play data set has 9659 unique apps. This is correct because I deleted one row due to error."
   ]
  },
  {
   "cell_type": "code",
   "execution_count": 10,
   "metadata": {},
   "outputs": [
    {
     "name": "stdout",
     "output_type": "stream",
     "text": [
      "Number of duplicate apps:  0\n",
      "Number of unique apps:  7197\n"
     ]
    }
   ],
   "source": [
    "f_find_duplication(ios_body, 1)"
   ]
  },
  {
   "cell_type": "markdown",
   "metadata": {},
   "source": [
    "Apple Store data set doesn't have duplicate apps.\n",
    "\n",
    "My task is clear: removing 1181 duplicate apps from Google Play data set. But randomly removing them is not a good choice. Look closely Instagram's entries, we can see four different number of reviews. This issue could also happen to other apps. What I want is to keep greatest number of reviews because it seems latest entry of an app.  "
   ]
  },
  {
   "cell_type": "code",
   "execution_count": 11,
   "metadata": {},
   "outputs": [
    {
     "name": "stdout",
     "output_type": "stream",
     "text": [
      "Number of unique apps in d_reviews_max dictionary:  9659\n"
     ]
    }
   ],
   "source": [
    "d_reviews_max = {}\n",
    "\n",
    "for row in android_body:\n",
    "    v_app_name = row[0]\n",
    "    v_reviews_max = int(row[3])\n",
    "    if (v_app_name in d_reviews_max) and (v_reviews_max > d_reviews_max[v_app_name]):\n",
    "        d_reviews_max[v_app_name] = v_reviews_max\n",
    "    elif v_app_name not in d_reviews_max:\n",
    "        d_reviews_max[v_app_name] = v_reviews_max\n",
    "\n",
    "print('Number of unique apps in d_reviews_max dictionary: ', len(d_reviews_max))"
   ]
  },
  {
   "cell_type": "markdown",
   "metadata": {},
   "source": [
    "Let's double check Instagram's reviews in `d_reviews_max`:"
   ]
  },
  {
   "cell_type": "code",
   "execution_count": 12,
   "metadata": {},
   "outputs": [
    {
     "name": "stdout",
     "output_type": "stream",
     "text": [
      "Number of Instagram's reviews:  66577446\n"
     ]
    }
   ],
   "source": [
    "print('Number of Instagram\\'s reviews: ',d_reviews_max['Instagram'])"
   ]
  },
  {
   "cell_type": "markdown",
   "metadata": {},
   "source": [
    "So far, so good. Now I will use the dictionary to remove duplications."
   ]
  },
  {
   "cell_type": "code",
   "execution_count": 13,
   "metadata": {},
   "outputs": [
    {
     "name": "stdout",
     "output_type": "stream",
     "text": [
      "Number of unique apps in l_android_clean:  9659\n"
     ]
    }
   ],
   "source": [
    "l_android_clean = []\n",
    "already_added = []\n",
    "\n",
    "for row in android_body:\n",
    "    v_app_name = row[0]\n",
    "    v_reviews_max = int(row[3])\n",
    "    if (v_app_name not in already_added) and (v_reviews_max == d_reviews_max[v_app_name]):\n",
    "        l_android_clean.append(row)\n",
    "        already_added.append(v_app_name)\n",
    "        \n",
    "print('Number of unique apps in l_android_clean: ',len(l_android_clean))"
   ]
  },
  {
   "cell_type": "markdown",
   "metadata": {},
   "source": [
    "Double check with Instagram's reviews in `l_android_clean`:"
   ]
  },
  {
   "cell_type": "code",
   "execution_count": 14,
   "metadata": {},
   "outputs": [
    {
     "name": "stdout",
     "output_type": "stream",
     "text": [
      "['App', 'Category', 'Rating', 'Reviews', 'Size', 'Installs', 'Type', 'Price', 'Content Rating', 'Genres', 'Last Updated', 'Current Ver', 'Android Ver']\n",
      "\n",
      "\n",
      "['Instagram', 'SOCIAL', '4.5', '66577446', 'Varies with device', '1,000,000,000+', 'Free', '0', 'Teen', 'Social', 'July 31, 2018', 'Varies with device', 'Varies with device']\n"
     ]
    }
   ],
   "source": [
    "print(android_header)\n",
    "print('\\n')\n",
    "for row in l_android_clean:\n",
    "    v_app_name = row[0]\n",
    "    if v_app_name == 'Instagram':\n",
    "        print(row)"
   ]
  },
  {
   "cell_type": "markdown",
   "metadata": {},
   "source": [
    "Everything is as I expected. All unwanted rows were removed. The next step is removing non-English applications.\n",
    "\n",
    "### 3. Removing non-English apps:\n",
    "\n",
    "I can use built-in function [ord()](https://docs.python.org/3/library/functions.html#ord). This function will return integer of a character. English words are made of 127 standard characters called [ASCII code](https://ascii.cl/) (abbreviated from [American Standard Code for Information Interchange](https://en.wikipedia.org/wiki/ASCII)). To filter non-english apps, we can create a function `f_is_english` that will return `Fales` if output of `ord(input_string)` greater than 127 and vice versa. "
   ]
  },
  {
   "cell_type": "code",
   "execution_count": 15,
   "metadata": {},
   "outputs": [],
   "source": [
    "def f_is_english(v_string):\n",
    "    for v_character in v_string:\n",
    "        if ord(v_character) > 127:\n",
    "            return False\n",
    "    return True"
   ]
  },
  {
   "cell_type": "code",
   "execution_count": 16,
   "metadata": {},
   "outputs": [
    {
     "data": {
      "text/plain": [
       "True"
      ]
     },
     "execution_count": 16,
     "metadata": {},
     "output_type": "execute_result"
    }
   ],
   "source": [
    "f_is_english('Instagram')"
   ]
  },
  {
   "cell_type": "code",
   "execution_count": 17,
   "metadata": {},
   "outputs": [
    {
     "data": {
      "text/plain": [
       "False"
      ]
     },
     "execution_count": 17,
     "metadata": {},
     "output_type": "execute_result"
    }
   ],
   "source": [
    "f_is_english('爱奇艺PPS -《欢乐颂2》电视剧热播')"
   ]
  },
  {
   "cell_type": "code",
   "execution_count": 18,
   "metadata": {},
   "outputs": [
    {
     "data": {
      "text/plain": [
       "False"
      ]
     },
     "execution_count": 18,
     "metadata": {},
     "output_type": "execute_result"
    }
   ],
   "source": [
    "f_is_english('Docs To Go™ Free Office Suite')"
   ]
  },
  {
   "cell_type": "code",
   "execution_count": 19,
   "metadata": {},
   "outputs": [
    {
     "data": {
      "text/plain": [
       "False"
      ]
     },
     "execution_count": 19,
     "metadata": {},
     "output_type": "execute_result"
    }
   ],
   "source": [
    "f_is_english('Instachat 😜')"
   ]
  },
  {
   "cell_type": "markdown",
   "metadata": {},
   "source": [
    "I did some tests and could see my fuction is not good enough. It cannot dectect 'Docs To Go™ Free Office Suite' and 'Instachat 😜' are english apps due to `™` trade mark and emoji. To help the funtion recognizes these apps as english apps, I would add one more condition to `f_is_english`:"
   ]
  },
  {
   "cell_type": "code",
   "execution_count": 20,
   "metadata": {},
   "outputs": [],
   "source": [
    "def f_is_english(v_string):\n",
    "    v_count = 0\n",
    "    \n",
    "    for character in v_string:\n",
    "        if ord(character) > 127:\n",
    "            v_count += 1\n",
    "            if v_count > 3:\n",
    "                return False\n",
    "    return True"
   ]
  },
  {
   "cell_type": "code",
   "execution_count": 21,
   "metadata": {},
   "outputs": [
    {
     "data": {
      "text/plain": [
       "True"
      ]
     },
     "execution_count": 21,
     "metadata": {},
     "output_type": "execute_result"
    }
   ],
   "source": [
    "f_is_english('Docs To Go™ Free Office Suite')"
   ]
  },
  {
   "cell_type": "code",
   "execution_count": 22,
   "metadata": {},
   "outputs": [
    {
     "data": {
      "text/plain": [
       "True"
      ]
     },
     "execution_count": 22,
     "metadata": {},
     "output_type": "execute_result"
    }
   ],
   "source": [
    "f_is_english('Instachat 😜')"
   ]
  },
  {
   "cell_type": "code",
   "execution_count": 23,
   "metadata": {},
   "outputs": [
    {
     "data": {
      "text/plain": [
       "False"
      ]
     },
     "execution_count": 23,
     "metadata": {},
     "output_type": "execute_result"
    }
   ],
   "source": [
    "f_is_english('爱奇艺PPS -《欢乐颂2》电视剧热播')"
   ]
  },
  {
   "cell_type": "markdown",
   "metadata": {},
   "source": [
    "Now let's use this funtion to filter both data sets:"
   ]
  },
  {
   "cell_type": "code",
   "execution_count": 24,
   "metadata": {},
   "outputs": [
    {
     "name": "stdout",
     "output_type": "stream",
     "text": [
      "Number of english Android apps:  9614\n",
      "Number of english iOS apps:  6183\n"
     ]
    }
   ],
   "source": [
    "l_android_english = []\n",
    "l_ios_english = []\n",
    "\n",
    "for row in l_android_clean:\n",
    "    v_app_name = row[0]\n",
    "    if f_is_english(v_app_name):\n",
    "        l_android_english.append(row)\n",
    "        \n",
    "for row in ios_body:\n",
    "    v_app_name = row[2]\n",
    "    if f_is_english(v_app_name):\n",
    "        l_ios_english.append(row)\n",
    "        \n",
    "print('Number of english Android apps: ', len(l_android_english))\n",
    "print('Number of english iOS apps: ', len(l_ios_english))"
   ]
  },
  {
   "cell_type": "markdown",
   "metadata": {},
   "source": [
    "Up until now, I have done:\n",
    "* Deleted wrong entry\n",
    "* Removed duplicate entries\n",
    "* Filtered non-english apps\n",
    "\n",
    "The final step of cleaning process is isolating free apps from data sets.\n",
    "\n",
    "### 4. Isolating the Free Apps:"
   ]
  },
  {
   "cell_type": "code",
   "execution_count": 25,
   "metadata": {},
   "outputs": [
    {
     "name": "stdout",
     "output_type": "stream",
     "text": [
      "Number of free Android apps:  8864\n",
      "Number of free iOS apps:  3222\n"
     ]
    }
   ],
   "source": [
    "l_android_final = []\n",
    "l_ios_final = []\n",
    "\n",
    "for row in l_android_english:\n",
    "    price = row[7]\n",
    "    price = price.replace('$','')\n",
    "    price = price.replace('Everyone', '0')\n",
    "    price = float(price)\n",
    "    if price == 0.0:\n",
    "        l_android_final.append(row)\n",
    "        \n",
    "for row in l_ios_english:\n",
    "    price = float(row[5])\n",
    "    if price == 0.0:\n",
    "        l_ios_final.append(row)\n",
    "        \n",
    "print('Number of free Android apps: ',len(l_android_final))\n",
    "print('Number of free iOS apps: ',len(l_ios_final))"
   ]
  },
  {
   "cell_type": "markdown",
   "metadata": {},
   "source": [
    "I've finished with cleaning data sets. There are 8864 Android and 3222 iOS apps left. Let's begin our analysis to find out what kind of app the best for making money.\n",
    "\n",
    "## II. Analysing the Data:\n",
    "### 1. Most Common Apps by Genre:\n",
    "\n",
    "I will need to build two functions to answer the question \"What are the most common Apps by Genre?\":\n",
    "* First, a function `f_freq_table` to show frequency in percentage of each Genre.\n",
    "* Second, a function `f_freq_table_desc` to show percentages in a descending order."
   ]
  },
  {
   "cell_type": "code",
   "execution_count": 26,
   "metadata": {},
   "outputs": [],
   "source": [
    "def f_freq_table(dataset, index):\n",
    "    d_freq_table = {}\n",
    "    \n",
    "    for row in dataset:\n",
    "        v_genre = row[index]\n",
    "        if v_genre in d_freq_table:\n",
    "            d_freq_table[v_genre] += 1\n",
    "        else:\n",
    "            d_freq_table[v_genre] = 1\n",
    "    \n",
    "    d_freq_table_percent = {}\n",
    "    for key in d_freq_table:\n",
    "        v_genre_percent = (d_freq_table[key] / len(dataset)) * 100\n",
    "        d_freq_table_percent[key] = v_genre_percent\n",
    "        \n",
    "    return d_freq_table_percent\n",
    "\n",
    "def f_freq_table_desc(dataset, index):\n",
    "    d_table = f_freq_table(dataset, index)\n",
    "    l_table_display = []\n",
    "    \n",
    "    for key in d_table:\n",
    "        v_tuple = (float(d_table[key]), key)\n",
    "        l_table_display.append(v_tuple)\n",
    "        \n",
    "    l_table_display = sorted(l_table_display, reverse = True)\n",
    "    for row in l_table_display:\n",
    "        print(row[1], ':', row[0])"
   ]
  },
  {
   "cell_type": "code",
   "execution_count": 27,
   "metadata": {
    "scrolled": false
   },
   "outputs": [
    {
     "name": "stdout",
     "output_type": "stream",
     "text": [
      "FAMILY : 18.907942238267147\n",
      "GAME : 9.724729241877256\n",
      "TOOLS : 8.461191335740072\n",
      "BUSINESS : 4.591606498194946\n",
      "LIFESTYLE : 3.9034296028880866\n",
      "PRODUCTIVITY : 3.892148014440433\n",
      "FINANCE : 3.7003610108303246\n",
      "MEDICAL : 3.531137184115524\n",
      "SPORTS : 3.395758122743682\n",
      "PERSONALIZATION : 3.3167870036101084\n",
      "COMMUNICATION : 3.2378158844765346\n",
      "HEALTH_AND_FITNESS : 3.0798736462093865\n",
      "PHOTOGRAPHY : 2.944494584837545\n",
      "NEWS_AND_MAGAZINES : 2.7978339350180503\n",
      "SOCIAL : 2.6624548736462095\n",
      "TRAVEL_AND_LOCAL : 2.33528880866426\n",
      "SHOPPING : 2.2450361010830324\n",
      "BOOKS_AND_REFERENCE : 2.1435018050541514\n",
      "DATING : 1.861462093862816\n",
      "VIDEO_PLAYERS : 1.7937725631768955\n",
      "MAPS_AND_NAVIGATION : 1.3989169675090252\n",
      "FOOD_AND_DRINK : 1.2409747292418771\n",
      "EDUCATION : 1.1620036101083033\n",
      "ENTERTAINMENT : 0.9589350180505415\n",
      "LIBRARIES_AND_DEMO : 0.9363718411552346\n",
      "AUTO_AND_VEHICLES : 0.9250902527075812\n",
      "HOUSE_AND_HOME : 0.8235559566787004\n",
      "WEATHER : 0.8009927797833934\n",
      "EVENTS : 0.7107400722021661\n",
      "PARENTING : 0.6543321299638989\n",
      "ART_AND_DESIGN : 0.6430505415162455\n",
      "COMICS : 0.6204873646209386\n",
      "BEAUTY : 0.5979241877256317\n"
     ]
    }
   ],
   "source": [
    "f_freq_table_desc(l_android_final, 1)"
   ]
  },
  {
   "cell_type": "code",
   "execution_count": 28,
   "metadata": {
    "scrolled": true
   },
   "outputs": [
    {
     "name": "stdout",
     "output_type": "stream",
     "text": [
      "Games : 58.16263190564867\n",
      "Entertainment : 7.883302296710118\n",
      "Photo & Video : 4.9658597144630665\n",
      "Education : 3.662321539416512\n",
      "Social Networking : 3.2898820608317814\n",
      "Shopping : 2.60707635009311\n",
      "Utilities : 2.5139664804469275\n",
      "Sports : 2.1415270018621975\n",
      "Music : 2.0484171322160147\n",
      "Health & Fitness : 2.0173805090006205\n",
      "Productivity : 1.7380509000620732\n",
      "Lifestyle : 1.5828677839851024\n",
      "News : 1.3345747982619491\n",
      "Travel : 1.2414649286157666\n",
      "Finance : 1.1173184357541899\n",
      "Weather : 0.8690254500310366\n",
      "Food & Drink : 0.8069522036002483\n",
      "Reference : 0.5586592178770949\n",
      "Business : 0.5276225946617008\n",
      "Book : 0.4345127250155183\n",
      "Navigation : 0.186219739292365\n",
      "Medical : 0.186219739292365\n",
      "Catalogs : 0.12414649286157665\n"
     ]
    }
   ],
   "source": [
    "f_freq_table_desc(l_ios_final, 12)"
   ]
  },
  {
   "cell_type": "markdown",
   "metadata": {},
   "source": [
    "Top 5 Most Common Apps by Genre:\n",
    "\n",
    "|Top|Android  |iOS              |\n",
    "|---|---------|-----------------|\n",
    "|1  |Family   |Games            |\n",
    "|2  |Game     |Entertainment    |\n",
    "|3  |Tools    |Photo & Video    |\n",
    "|4  |Business |Education        |\n",
    "|5  |Lifestyle|Social Networking|\n",
    "\n",
    "Game looks like the most common genre on both platforms. Right now, building a game application might be a good choice. It doesn't cost many resources. Flappy Bird for example. Not only graphic and content are very simple, but also very addicted.\n",
    "\n",
    "However, there is still one more thing that makes me wonder: How are popular these genres?. This question leads me to another analysis **Most Popular Apps by Genre**\n",
    "\n",
    "### 2. Most Popular Apps by Genre:\n",
    "#### Part 1: Most Popular Apps by Genre on Google Play:\n",
    "\n",
    "I can use column Installs to figure out popularity of each genre. "
   ]
  },
  {
   "cell_type": "code",
   "execution_count": 29,
   "metadata": {},
   "outputs": [
    {
     "name": "stdout",
     "output_type": "stream",
     "text": [
      "GAME : 13436869450\n",
      "COMMUNICATION : 11036906201\n",
      "TOOLS : 8101043474\n",
      "FAMILY : 6193895690\n",
      "PRODUCTIVITY : 5791629314\n",
      "SOCIAL : 5487861902\n",
      "PHOTOGRAPHY : 4656268815\n",
      "VIDEO_PLAYERS : 3931731720\n",
      "TRAVEL_AND_LOCAL : 2894704086\n",
      "NEWS_AND_MAGAZINES : 2368196260\n",
      "BOOKS_AND_REFERENCE : 1665884260\n",
      "PERSONALIZATION : 1529235888\n",
      "SHOPPING : 1400338585\n",
      "HEALTH_AND_FITNESS : 1143548402\n",
      "SPORTS : 1095230683\n",
      "ENTERTAINMENT : 989460000\n",
      "BUSINESS : 696902090\n",
      "MAPS_AND_NAVIGATION : 503060780\n",
      "LIFESTYLE : 497484429\n",
      "FINANCE : 455163132\n",
      "WEATHER : 360288520\n",
      "FOOD_AND_DRINK : 211738751\n",
      "EDUCATION : 188850000\n",
      "DATING : 140914757\n",
      "ART_AND_DESIGN : 113221100\n",
      "HOUSE_AND_HOME : 97202461\n",
      "AUTO_AND_VEHICLES : 53080061\n",
      "LIBRARIES_AND_DEMO : 52995810\n",
      "COMICS : 44971150\n",
      "MEDICAL : 37732344\n",
      "PARENTING : 31471010\n",
      "BEAUTY : 27197050\n",
      "EVENTS : 15973160\n"
     ]
    }
   ],
   "source": [
    "d_popular_genre = {}\n",
    "\n",
    "for row in l_android_final:\n",
    "    v_genre = row[1]\n",
    "    v_installs = row[5]\n",
    "    v_installs = v_installs.replace('+','')\n",
    "    v_installs = v_installs.replace(',','')\n",
    "    v_installs = int(v_installs)\n",
    "    if v_genre in d_popular_genre:\n",
    "        d_popular_genre[v_genre] += v_installs\n",
    "    else:\n",
    "        d_popular_genre[v_genre] = v_installs\n",
    "        \n",
    "l_table_display = []\n",
    "\n",
    "for key in d_popular_genre:\n",
    "    v_tuple = (d_popular_genre[key], key)\n",
    "    l_table_display.append(v_tuple)\n",
    "    \n",
    "l_table_display = sorted(l_table_display, reverse = True)\n",
    "for row in l_table_display:\n",
    "    print(row[1], ':', row[0])"
   ]
  },
  {
   "cell_type": "markdown",
   "metadata": {},
   "source": [
    "#### Part 2: Most Popular Apps by Genre on Apple Store:\n",
    "\n",
    "Apple Store data set doens't tell us number of installations for each genre. I will use rating_count_tot (User Rating counts for all version) instead:"
   ]
  },
  {
   "cell_type": "code",
   "execution_count": 30,
   "metadata": {
    "scrolled": true
   },
   "outputs": [
    {
     "name": "stdout",
     "output_type": "stream",
     "text": [
      "Games : 42705967\n",
      "Social Networking : 7584125\n",
      "Photo & Video : 4550647\n",
      "Music : 3783551\n",
      "Entertainment : 3563577\n",
      "Shopping : 2261254\n",
      "Sports : 1587614\n",
      "Health & Fitness : 1514371\n",
      "Utilities : 1513441\n",
      "Weather : 1463837\n",
      "Reference : 1348958\n",
      "Productivity : 1177591\n",
      "Finance : 1132846\n",
      "Travel : 1129752\n",
      "News : 913665\n",
      "Food & Drink : 866682\n",
      "Lifestyle : 840774\n",
      "Education : 826470\n",
      "Book : 556619\n",
      "Navigation : 516542\n",
      "Business : 127349\n",
      "Catalogs : 16016\n",
      "Medical : 3672\n"
     ]
    }
   ],
   "source": [
    "d_popular_genre = {}\n",
    "\n",
    "for row in l_ios_final:\n",
    "    v_genre = row[12]\n",
    "    v_ratings = int(row[6])\n",
    "    if v_genre in d_popular_genre:\n",
    "        d_popular_genre[v_genre] += v_ratings\n",
    "    else:\n",
    "        d_popular_genre[v_genre] = v_ratings\n",
    "        \n",
    "l_table_display = []\n",
    "\n",
    "for key in d_popular_genre:\n",
    "    v_tuple = (d_popular_genre[key], key)\n",
    "    l_table_display.append(v_tuple)\n",
    "    \n",
    "l_table_display = sorted(l_table_display, reverse = True)\n",
    "for row in l_table_display:\n",
    "    print(row[1], ':', row[0])"
   ]
  },
  {
   "cell_type": "markdown",
   "metadata": {},
   "source": [
    "Top 5 Most Popular Apps by Genre:\n",
    "\n",
    "|Top|Android      |iOS              |\n",
    "|---|-------------|-----------------|\n",
    "|1  |Game         |Games            |\n",
    "|2  |Communication|Social Networking|\n",
    "|3  |Tools        |Photo & Video    |\n",
    "|4  |Family       |Music            |\n",
    "|5  |Productivity |Entertainment    |\n",
    "\n",
    "Top 5 Most Common Apps by Genre:\n",
    "\n",
    "|Top|Android  |iOS              |\n",
    "|---|---------|-----------------|\n",
    "|1  |Family   |Games            |\n",
    "|2  |Game     |Entertainment    |\n",
    "|3  |Tools    |Photo & Video    |\n",
    "|4  |Business |Education        |\n",
    "|5  |Lifestyle|Social Networking|\n",
    "\n",
    "Based on the two tables above, it reinforces my idea of creating a game application. The last thing I would like to know is: What kind of game does attract the most users?\n",
    "\n",
    "### 3. Most Popular Game Apps on Google Play and Apple Store:"
   ]
  },
  {
   "cell_type": "code",
   "execution_count": 31,
   "metadata": {},
   "outputs": [
    {
     "name": "stdout",
     "output_type": "stream",
     "text": [
      "Subway Surfers : 1000000000\n",
      "Temple Run 2 : 500000000\n",
      "Pou : 500000000\n",
      "My Talking Tom : 500000000\n",
      "Candy Crush Saga : 500000000\n",
      "slither.io : 100000000\n"
     ]
    }
   ],
   "source": [
    "##Google Play\n",
    "d_popular_game = {}\n",
    "\n",
    "for row in l_android_final:\n",
    "    v_app_name = row[0]\n",
    "    v_genre = row[1]\n",
    "    v_installs = row[5]\n",
    "    v_installs = v_installs.replace('+','')\n",
    "    v_installs = v_installs.replace(',', '')\n",
    "    v_installs = int(v_installs)\n",
    "    if v_genre == 'GAME':\n",
    "        d_popular_game[v_app_name] = v_installs\n",
    "        \n",
    "l_popular_game = []\n",
    "\n",
    "for key in d_popular_game:\n",
    "    v_tuple = (d_popular_game[key], key)\n",
    "    l_popular_game.append(v_tuple)\n",
    "\n",
    "l_popular_game = sorted(l_popular_game, reverse = True)\n",
    "\n",
    "for row in l_popular_game[:6]:\n",
    "    print(row[1], ':',row[0])"
   ]
  },
  {
   "cell_type": "code",
   "execution_count": 32,
   "metadata": {},
   "outputs": [
    {
     "name": "stdout",
     "output_type": "stream",
     "text": [
      "Clash of Clans : 2130805\n",
      "Temple Run : 1724546\n",
      "Candy Crush Saga : 961794\n",
      "Angry Birds : 824451\n",
      "Subway Surfers : 706110\n",
      "Solitaire : 679055\n"
     ]
    }
   ],
   "source": [
    "##Apple Store\n",
    "d_popular_game = {}\n",
    "\n",
    "for row in l_ios_final:\n",
    "    v_app_name = row[2]\n",
    "    v_genre = row[12]\n",
    "    v_ratings = int(row[6])\n",
    "    if v_genre == 'Games':\n",
    "        d_popular_game[v_app_name] = v_ratings\n",
    "        \n",
    "l_popular_game = []\n",
    "\n",
    "for key in d_popular_game:\n",
    "    v_tuple = (d_popular_game[key], key)\n",
    "    l_popular_game.append(v_tuple)\n",
    "\n",
    "l_popular_game = sorted(l_popular_game, reverse = True)\n",
    "\n",
    "for row in l_popular_game[:6]:\n",
    "    print(row[1], ':',row[0])"
   ]
  },
  {
   "cell_type": "markdown",
   "metadata": {},
   "source": [
    "Top 5 Most Popular Games on Google Play:\n",
    "\n",
    "|Top|Android         |Game Genres      |\n",
    "|---|----------------|-----------------|\n",
    "|1  |Subway Surfers  |Arcade           |\n",
    "|2  |Temple Run 2    |Arcade           |\n",
    "|3  |Pou             |Casual           |\n",
    "|4  |My Talking Tom  |Casual           |\n",
    "|5  |Candy Crush Saga|Casual           |\n",
    "\n",
    "Top 5 Most Popular Games on Apple Store:\n",
    "\n",
    "|Top|iOS             |Game Genres      |\n",
    "|---|----------------|-----------------|\n",
    "|1  |Clash of Clans  |Strategy         |\n",
    "|2  |Temple Run      |Arcade           |\n",
    "|3  |Candy Crush Saga|Casual           |\n",
    "|4  |Angry Birds     |Casual           |\n",
    "|5  |Subway Surfers  |Arcade           |\n",
    "\n",
    "\n",
    "## III. Conclusion:\n",
    "\n",
    "Arcade and Casual are the most popular game genre on both Android and iOS. But Pou and My Talking Tom are most likely for children who might not really caught by ads. Candy Crush is a dominator in its category. Arcade game would be the best choice.\n",
    "Subway Surfers, Temple Run are endless runner mobile games. They are easy to play, nice graphic and users must pay attention during gameplay which is a good thing because they could see our ads.\n",
    "\n",
    "Finally, what kind of app my developers should build:\n",
    "* Arcade game\n",
    "* Nice graphic\n",
    "* Easy and fun to play like Subway Surfers, Temple Run, Candy Crush.\n",
    "* The longer users play, the more challenging it is like Flappy Bird"
   ]
  },
  {
   "cell_type": "markdown",
   "metadata": {},
   "source": [
    "*The purpose of this project is mainly to practice what I have learned from [dataquest.io](dataquest.io) - Python for Data Science: Fundamental course. Many techniques, contents in this project were guided by dataquest.io and the following [solution](https://github.com/dataquestio/solutions/blob/master/Mission350Solutions.ipynb).*"
   ]
  }
 ],
 "metadata": {
  "kernelspec": {
   "display_name": "Python 3",
   "language": "python",
   "name": "python3"
  },
  "language_info": {
   "codemirror_mode": {
    "name": "ipython",
    "version": 3
   },
   "file_extension": ".py",
   "mimetype": "text/x-python",
   "name": "python",
   "nbconvert_exporter": "python",
   "pygments_lexer": "ipython3",
   "version": "3.6.6"
  }
 },
 "nbformat": 4,
 "nbformat_minor": 1
}
